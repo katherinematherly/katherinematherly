{
 "cells": [
  {
   "cell_type": "code",
   "execution_count": 102,
   "id": "4d01be00",
   "metadata": {},
   "outputs": [],
   "source": [
    "import pandas as pd\n",
    "import numpy as np\n",
    "import matplotlib.pyplot as plt\n",
    "%matplotlib inline\n",
    "\n",
    "df_cons = pd.read_csv('ConstructionTimeSeriesDataV2.csv')"
   ]
  },
  {
   "cell_type": "code",
   "execution_count": 103,
   "id": "0149daa2",
   "metadata": {},
   "outputs": [
    {
     "data": {
      "text/html": [
       "<div>\n",
       "<style scoped>\n",
       "    .dataframe tbody tr th:only-of-type {\n",
       "        vertical-align: middle;\n",
       "    }\n",
       "\n",
       "    .dataframe tbody tr th {\n",
       "        vertical-align: top;\n",
       "    }\n",
       "\n",
       "    .dataframe thead th {\n",
       "        text-align: right;\n",
       "    }\n",
       "</style>\n",
       "<table border=\"1\" class=\"dataframe\">\n",
       "  <thead>\n",
       "    <tr style=\"text-align: right;\">\n",
       "      <th></th>\n",
       "      <th>Month</th>\n",
       "      <th>Month-Year</th>\n",
       "      <th>Total Construction</th>\n",
       "      <th>Private Construction</th>\n",
       "      <th>Public Construction</th>\n",
       "    </tr>\n",
       "  </thead>\n",
       "  <tbody>\n",
       "    <tr>\n",
       "      <th>0</th>\n",
       "      <td>1</td>\n",
       "      <td>2-Jan</td>\n",
       "      <td>59516</td>\n",
       "      <td>45273</td>\n",
       "      <td>14243</td>\n",
       "    </tr>\n",
       "    <tr>\n",
       "      <th>1</th>\n",
       "      <td>2</td>\n",
       "      <td>2-Feb</td>\n",
       "      <td>58588</td>\n",
       "      <td>44475</td>\n",
       "      <td>14113</td>\n",
       "    </tr>\n",
       "    <tr>\n",
       "      <th>2</th>\n",
       "      <td>3</td>\n",
       "      <td>2-Mar</td>\n",
       "      <td>63782</td>\n",
       "      <td>49396</td>\n",
       "      <td>14386</td>\n",
       "    </tr>\n",
       "    <tr>\n",
       "      <th>3</th>\n",
       "      <td>4</td>\n",
       "      <td>2-Apr</td>\n",
       "      <td>69504</td>\n",
       "      <td>53283</td>\n",
       "      <td>16221</td>\n",
       "    </tr>\n",
       "    <tr>\n",
       "      <th>4</th>\n",
       "      <td>5</td>\n",
       "      <td>2-May</td>\n",
       "      <td>73384</td>\n",
       "      <td>55009</td>\n",
       "      <td>18375</td>\n",
       "    </tr>\n",
       "  </tbody>\n",
       "</table>\n",
       "</div>"
      ],
      "text/plain": [
       "   Month Month-Year  Total Construction  Private Construction  \\\n",
       "0      1      2-Jan               59516                 45273   \n",
       "1      2      2-Feb               58588                 44475   \n",
       "2      3      2-Mar               63782                 49396   \n",
       "3      4      2-Apr               69504                 53283   \n",
       "4      5      2-May               73384                 55009   \n",
       "\n",
       "   Public Construction  \n",
       "0                14243  \n",
       "1                14113  \n",
       "2                14386  \n",
       "3                16221  \n",
       "4                18375  "
      ]
     },
     "execution_count": 103,
     "metadata": {},
     "output_type": "execute_result"
    }
   ],
   "source": [
    "df_cons.head()"
   ]
  },
  {
   "cell_type": "code",
   "execution_count": 104,
   "id": "63fa8499",
   "metadata": {},
   "outputs": [
    {
     "data": {
      "text/html": [
       "<div>\n",
       "<style scoped>\n",
       "    .dataframe tbody tr th:only-of-type {\n",
       "        vertical-align: middle;\n",
       "    }\n",
       "\n",
       "    .dataframe tbody tr th {\n",
       "        vertical-align: top;\n",
       "    }\n",
       "\n",
       "    .dataframe thead th {\n",
       "        text-align: right;\n",
       "    }\n",
       "</style>\n",
       "<table border=\"1\" class=\"dataframe\">\n",
       "  <thead>\n",
       "    <tr style=\"text-align: right;\">\n",
       "      <th></th>\n",
       "      <th>Month</th>\n",
       "      <th>Month-Year</th>\n",
       "      <th>Total Construction</th>\n",
       "      <th>Private Construction</th>\n",
       "      <th>Public Construction</th>\n",
       "    </tr>\n",
       "  </thead>\n",
       "  <tbody>\n",
       "    <tr>\n",
       "      <th>141</th>\n",
       "      <td>142</td>\n",
       "      <td>13-Oct</td>\n",
       "      <td>85193</td>\n",
       "      <td>59370</td>\n",
       "      <td>25823</td>\n",
       "    </tr>\n",
       "    <tr>\n",
       "      <th>142</th>\n",
       "      <td>143</td>\n",
       "      <td>13-Nov</td>\n",
       "      <td>77931</td>\n",
       "      <td>55191</td>\n",
       "      <td>22741</td>\n",
       "    </tr>\n",
       "    <tr>\n",
       "      <th>143</th>\n",
       "      <td>144</td>\n",
       "      <td>13-Dec</td>\n",
       "      <td>71502</td>\n",
       "      <td>52132</td>\n",
       "      <td>19369</td>\n",
       "    </tr>\n",
       "    <tr>\n",
       "      <th>144</th>\n",
       "      <td>145</td>\n",
       "      <td>14-Jan</td>\n",
       "      <td>64661</td>\n",
       "      <td>47827</td>\n",
       "      <td>16834</td>\n",
       "    </tr>\n",
       "    <tr>\n",
       "      <th>145</th>\n",
       "      <td>146</td>\n",
       "      <td>14-Feb</td>\n",
       "      <td>63368</td>\n",
       "      <td>46647</td>\n",
       "      <td>16721</td>\n",
       "    </tr>\n",
       "  </tbody>\n",
       "</table>\n",
       "</div>"
      ],
      "text/plain": [
       "     Month Month-Year  Total Construction  Private Construction  \\\n",
       "141    142     13-Oct               85193                 59370   \n",
       "142    143     13-Nov               77931                 55191   \n",
       "143    144     13-Dec               71502                 52132   \n",
       "144    145     14-Jan               64661                 47827   \n",
       "145    146     14-Feb               63368                 46647   \n",
       "\n",
       "     Public Construction  \n",
       "141                25823  \n",
       "142                22741  \n",
       "143                19369  \n",
       "144                16834  \n",
       "145                16721  "
      ]
     },
     "execution_count": 104,
     "metadata": {},
     "output_type": "execute_result"
    }
   ],
   "source": [
    "df_cons.tail()"
   ]
  },
  {
   "cell_type": "code",
   "execution_count": 106,
   "id": "fc4be2c7",
   "metadata": {
    "scrolled": true
   },
   "outputs": [
    {
     "data": {
      "text/html": [
       "<div>\n",
       "<style scoped>\n",
       "    .dataframe tbody tr th:only-of-type {\n",
       "        vertical-align: middle;\n",
       "    }\n",
       "\n",
       "    .dataframe tbody tr th {\n",
       "        vertical-align: top;\n",
       "    }\n",
       "\n",
       "    .dataframe thead th {\n",
       "        text-align: right;\n",
       "    }\n",
       "</style>\n",
       "<table border=\"1\" class=\"dataframe\">\n",
       "  <thead>\n",
       "    <tr style=\"text-align: right;\">\n",
       "      <th></th>\n",
       "      <th>Month-Year</th>\n",
       "      <th>Total Construction</th>\n",
       "      <th>Private Construction</th>\n",
       "      <th>Public Construction</th>\n",
       "    </tr>\n",
       "    <tr>\n",
       "      <th>Month</th>\n",
       "      <th></th>\n",
       "      <th></th>\n",
       "      <th></th>\n",
       "      <th></th>\n",
       "    </tr>\n",
       "  </thead>\n",
       "  <tbody>\n",
       "    <tr>\n",
       "      <th>1</th>\n",
       "      <td>2-Jan</td>\n",
       "      <td>59516</td>\n",
       "      <td>45273</td>\n",
       "      <td>14243</td>\n",
       "    </tr>\n",
       "    <tr>\n",
       "      <th>2</th>\n",
       "      <td>2-Feb</td>\n",
       "      <td>58588</td>\n",
       "      <td>44475</td>\n",
       "      <td>14113</td>\n",
       "    </tr>\n",
       "    <tr>\n",
       "      <th>3</th>\n",
       "      <td>2-Mar</td>\n",
       "      <td>63782</td>\n",
       "      <td>49396</td>\n",
       "      <td>14386</td>\n",
       "    </tr>\n",
       "    <tr>\n",
       "      <th>4</th>\n",
       "      <td>2-Apr</td>\n",
       "      <td>69504</td>\n",
       "      <td>53283</td>\n",
       "      <td>16221</td>\n",
       "    </tr>\n",
       "    <tr>\n",
       "      <th>5</th>\n",
       "      <td>2-May</td>\n",
       "      <td>73384</td>\n",
       "      <td>55009</td>\n",
       "      <td>18375</td>\n",
       "    </tr>\n",
       "  </tbody>\n",
       "</table>\n",
       "</div>"
      ],
      "text/plain": [
       "      Month-Year  Total Construction  Private Construction  \\\n",
       "Month                                                        \n",
       "1          2-Jan               59516                 45273   \n",
       "2          2-Feb               58588                 44475   \n",
       "3          2-Mar               63782                 49396   \n",
       "4          2-Apr               69504                 53283   \n",
       "5          2-May               73384                 55009   \n",
       "\n",
       "       Public Construction  \n",
       "Month                       \n",
       "1                    14243  \n",
       "2                    14113  \n",
       "3                    14386  \n",
       "4                    16221  \n",
       "5                    18375  "
      ]
     },
     "execution_count": 106,
     "metadata": {},
     "output_type": "execute_result"
    }
   ],
   "source": [
    "df = df_cons.set_index('Month')\n",
    "df.head()"
   ]
  },
  {
   "cell_type": "code",
   "execution_count": 117,
   "id": "932d7a4a",
   "metadata": {},
   "outputs": [
    {
     "data": {
      "text/plain": [
       "Month-Year              object\n",
       "Total Construction       int64\n",
       "Private Construction     int64\n",
       "Public Construction      int64\n",
       "dtype: object"
      ]
     },
     "execution_count": 117,
     "metadata": {},
     "output_type": "execute_result"
    }
   ],
   "source": [
    "df.dtypes"
   ]
  },
  {
   "cell_type": "code",
   "execution_count": null,
   "id": "8e43b8e9",
   "metadata": {},
   "outputs": [],
   "source": []
  },
  {
   "cell_type": "code",
   "execution_count": 126,
   "id": "a9a98fc0",
   "metadata": {},
   "outputs": [
    {
     "name": "stdout",
     "output_type": "stream",
     "text": [
      "     Month Month-Year  Total Construction  Private Construction  \\\n",
      "0        1      2-Jan               59516                 45273   \n",
      "1        2      2-Feb               58588                 44475   \n",
      "2        3      2-Mar               63782                 49396   \n",
      "3        4      2-Apr               69504                 53283   \n",
      "4        5      2-May               73384                 55009   \n",
      "..     ...        ...                 ...                   ...   \n",
      "141    142     13-Oct               85193                 59370   \n",
      "142    143     13-Nov               77931                 55191   \n",
      "143    144     13-Dec               71502                 52132   \n",
      "144    145     14-Jan               64661                 47827   \n",
      "145    146     14-Feb               63368                 46647   \n",
      "\n",
      "     Public Construction %private %public  \n",
      "0                  14243   76.07%  23.93%  \n",
      "1                  14113   75.91%  24.09%  \n",
      "2                  14386   77.45%  22.55%  \n",
      "3                  16221   76.66%  23.34%  \n",
      "4                  18375   74.96%  25.04%  \n",
      "..                   ...      ...     ...  \n",
      "141                25823   69.69%  30.31%  \n",
      "142                22741   70.82%  29.18%  \n",
      "143                19369   72.91%  27.09%  \n",
      "144                16834   73.97%  26.03%  \n",
      "145                16721   73.61%  26.39%  \n",
      "\n",
      "[146 rows x 7 columns]\n"
     ]
    }
   ],
   "source": [
    "per_private = (df_cons['Private Construction']/df_cons['Total Construction']) * 100\n",
    "per_public = 100.00 - per_private\n",
    "\n",
    "pp = ['{:.2f}%'.format(x) for x in per_private]\n",
    "pc = ['{:.2f}%'.format(x) for x in per_public]\n",
    "\n",
    "df_cons['%private'] = pp\n",
    "df_cons['%public'] = pc\n",
    "\n",
    "\n",
    "print(df_cons)"
   ]
  },
  {
   "cell_type": "code",
   "execution_count": 162,
   "id": "93a8d292",
   "metadata": {
    "scrolled": false
   },
   "outputs": [
    {
     "data": {
      "image/png": "[encoded data removed]",
      "text/plain": [
       "<Figure size 504x360 with 2 Axes>"
      ]
     },
     "metadata": {
      "needs_background": "light"
     },
     "output_type": "display_data"
    },
    {
     "name": "stdout",
     "output_type": "stream",
     "text": [
      "Private Construction showed a linear trend up between 2002-2007. Once the recession hit the Private Construction saw all time lows that lasted until late 2010. After that time, Private Construction began another linear trend up showing growth year over year. Throughout the years, Private Construction has made up, on average, ~70% of monthly Total Construction numbers. As Private Construction began to decline these impacts were seen on a larger scale as Total Construction volume shows a similar trend. Despite the percent of Public Construction impacts increasing for Total Construction during the 2008-2010 time range, it was not enough to counteract the loss seen in the Private Construction sector.\n"
     ]
    }
   ],
   "source": [
    "fig, ax = plt.subplots()\n",
    "\n",
    "ax.bar(x = df_cons['Month'], height = df_cons['Total Construction'], color=['Gray'])\n",
    "\n",
    "ax1 = ax.twinx()\n",
    "ax1.bar(x = df_cons['Month'], height = df_cons['Private Construction'], color=['Black'])\n",
    "\n",
    "ax.grid(False)\n",
    "\n",
    "ax.tick_params(axis = 'y', which = 'both', direction = 'in', width = 2, color = 'Black')\n",
    "\n",
    "fig.suptitle('Impacts Private Construction Had on Totals During Recession')\n",
    "fig.set_size_inches(7,5)\n",
    "plt.legend(['Total', 'Private'])\n",
    "\n",
    "\n",
    "ax.xaxis.set_label_text('Month-Year')\n",
    "ax.yaxis.set_label_text('Total Construction')\n",
    "ax1.yaxis.set_label_text('Private Construction')\n",
    "\n",
    "\n",
    "ax.set_xlim(40, 144)\n",
    "ax.set_ylim(0, 120000)\n",
    "ax1.set_ylim(0,120000)\n",
    "\n",
    "plt.show()\n",
    "print('Private Construction showed a linear trend up between 2002-2007. Once the recession hit \\\n",
    "the Private Construction saw all time lows that lasted until late 2010. After that time, Private \\\n",
    "Construction began another linear trend up showing growth year over year. Throughout the years, \\\n",
    "Private Construction has made up, on average, ~70% of monthly Total Construction numbers. \\\n",
    "As Private Construction began to decline these impacts were seen on a larger scale as Total \\\n",
    "Construction volume shows a similar trend. Despite the percent of Public Construction impacts \\\n",
    "increasing for Total Construction during the 2008-2010 time range, it was not enough to counteract \\\n",
    "the loss seen in the Private Construction sector.')"
   ]
  },
  {
   "cell_type": "code",
   "execution_count": null,
   "id": "70fff19b",
   "metadata": {
    "scrolled": true
   },
   "outputs": [],
   "source": []
  },
  {
   "cell_type": "code",
   "execution_count": null,
   "id": "ecf32efa",
   "metadata": {},
   "outputs": [],
   "source": []
  },
  {
   "cell_type": "code",
   "execution_count": null,
   "id": "6661954f",
   "metadata": {},
   "outputs": [],
   "source": []
  }
 ],
 "metadata": {
  "kernelspec": {
   "display_name": "Python 3 (ipykernel)",
   "language": "python",
   "name": "python3"
  },
  "language_info": {
   "codemirror_mode": {
    "name": "ipython",
    "version": 3
   },
   "file_extension": ".py",
   "mimetype": "text/x-python",
   "name": "python",
   "nbconvert_exporter": "python",
   "pygments_lexer": "ipython3",
   "version": "3.9.12"
  }
 },
 "nbformat": 4,
 "nbformat_minor": 5
}
